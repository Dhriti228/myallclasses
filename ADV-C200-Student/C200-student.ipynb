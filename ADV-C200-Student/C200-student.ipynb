{
 "cells": [
  {
   "cell_type": "code",
   "execution_count": null,
   "metadata": {},
   "outputs": [],
   "source": [
    "print('Name')\n",
    "print('Create a GUI to read any CSV, clean the data, and create widgets to select the column names, and graph type')"
   ]
  },
  {
   "cell_type": "code",
   "execution_count": 4,
   "metadata": {},
   "outputs": [
    {
     "name": "stdout",
     "output_type": "stream",
     "text": [
      "C:/Users/dhrit/Dropbox/My PC (LAPTOP-O7OVG9LE)/Downloads/Coding/ADV-C199-Student/percentage.csv\n"
     ]
    },
    {
     "data": {
      "text/html": [
       "<div>\n",
       "<style scoped>\n",
       "    .dataframe tbody tr th:only-of-type {\n",
       "        vertical-align: middle;\n",
       "    }\n",
       "\n",
       "    .dataframe tbody tr th {\n",
       "        vertical-align: top;\n",
       "    }\n",
       "\n",
       "    .dataframe thead th {\n",
       "        text-align: right;\n",
       "    }\n",
       "</style>\n",
       "<table border=\"1\" class=\"dataframe\">\n",
       "  <thead>\n",
       "    <tr style=\"text-align: right;\">\n",
       "      <th></th>\n",
       "      <th>Unnamed: 0</th>\n",
       "      <th>Name</th>\n",
       "      <th>Percentage</th>\n",
       "    </tr>\n",
       "  </thead>\n",
       "  <tbody>\n",
       "    <tr>\n",
       "      <th>0</th>\n",
       "      <td>0</td>\n",
       "      <td>aparna</td>\n",
       "      <td>90</td>\n",
       "    </tr>\n",
       "    <tr>\n",
       "      <th>1</th>\n",
       "      <td>1</td>\n",
       "      <td>akshay</td>\n",
       "      <td>40</td>\n",
       "    </tr>\n",
       "    <tr>\n",
       "      <th>2</th>\n",
       "      <td>2</td>\n",
       "      <td>lisa</td>\n",
       "      <td>80</td>\n",
       "    </tr>\n",
       "    <tr>\n",
       "      <th>3</th>\n",
       "      <td>3</td>\n",
       "      <td>joey</td>\n",
       "      <td>98</td>\n",
       "    </tr>\n",
       "    <tr>\n",
       "      <th>4</th>\n",
       "      <td>4</td>\n",
       "      <td>john</td>\n",
       "      <td>89</td>\n",
       "    </tr>\n",
       "  </tbody>\n",
       "</table>\n",
       "</div>"
      ],
      "text/plain": [
       "   Unnamed: 0    Name  Percentage\n",
       "0           0  aparna          90\n",
       "1           1  akshay          40\n",
       "2           2    lisa          80\n",
       "3           3    joey          98\n",
       "4           4    john          89"
      ]
     },
     "metadata": {},
     "output_type": "display_data"
    },
    {
     "data": {
      "application/vnd.jupyter.widget-view+json": {
       "model_id": "7c868b8fa3ec4e039219a87e5d65d12e",
       "version_major": 2,
       "version_minor": 0
      },
      "text/plain": [
       "interactive(children=(Dropdown(description='groupby_column', options=('Unnamed: 0', 'Name', 'Percentage'), val…"
      ]
     },
     "metadata": {},
     "output_type": "display_data"
    }
   ],
   "source": [
    "#pre defined code\n",
    "from ipywidgets import widgets\n",
    "from IPython.display import display, clear_output\n",
    "import pandas as pd\n",
    "from tkinter import Tk, filedialog\n",
    "import matplotlib.pyplot as plt \n",
    "\n",
    "graph_type = ['Choose one.. ','line','bar']\n",
    "operation =['choose','mean','max','min','sum','count']\n",
    "df = ''\n",
    "new_df = ''\n",
    "\n",
    "\n",
    "def select_files(b):\n",
    "    clear_output()\n",
    "    global df\n",
    "    root = Tk()\n",
    "    root.withdraw() \n",
    "    file_name = filedialog.askopenfilename()\n",
    "    df = pd.read_csv(file_name)\n",
    "    print(file_name)\n",
    "    df.replace('', float('nan'),inplace=True)\n",
    "    df.replace('0', float('nan'),inplace=True)\n",
    "    df=df.dropna()\n",
    "    display(df)\n",
    "    groupby_col_widget=widgets.Dropdown(options=df.columns)\n",
    "    operation_col_widget=widgets.Dropdown(options=df.columns)\n",
    "    operation_widget=widgets.Dropdown(options=operation)\n",
    "    groupby_int=widgets.interactive(groupby_dataframe,groupby_column=groupby_col_widget,operation_column=operation_col_widget,operation=operation_widget)\n",
    "    display(groupby_int)\n",
    "    \n",
    "#pre defined code end\n",
    "\n",
    "    #complete select_files function\n",
    "\n",
    "    #End of select_files function\n",
    "\n",
    "    \n",
    "#Code for get_widget function\n",
    "\n",
    "def get_widget():\n",
    "    global df\n",
    "    global new_df\n",
    "    xlabel_widget=widgets.Dropdown(options=new_df.columns)\n",
    "    ylabel_widget=widgets.Dropdown(options=new_df.columns)\n",
    "    graph_widget=widgets.Dropdown(options=graph_type)\n",
    "    graph=widgets.interactive(display_plot, xaxis=xlabel_widget, yaxis=ylabel_widget, graph_type=graph_widget)\n",
    "    display(graph)\n",
    "\n",
    "#Code for groupby_dataframe function\n",
    "def groupby_dataframe(groupby_column, operation_column, operation):\n",
    "    print(\"Group By\")\n",
    "\n",
    "    \n",
    "#pre defined code\n",
    "fileselect = widgets.Button(description=\"File select\")\n",
    "fileselect.on_click(select_files)\n",
    "\n",
    "display(fileselect)\n",
    "#pre defined code end"
   ]
  },
  {
   "cell_type": "code",
   "execution_count": null,
   "metadata": {},
   "outputs": [],
   "source": []
  },
  {
   "cell_type": "code",
   "execution_count": null,
   "metadata": {},
   "outputs": [],
   "source": []
  },
  {
   "cell_type": "code",
   "execution_count": null,
   "metadata": {},
   "outputs": [],
   "source": []
  }
 ],
 "metadata": {
  "kernelspec": {
   "display_name": "Python 3 (ipykernel)",
   "language": "python",
   "name": "python3"
  },
  "language_info": {
   "codemirror_mode": {
    "name": "ipython",
    "version": 3
   },
   "file_extension": ".py",
   "mimetype": "text/x-python",
   "name": "python",
   "nbconvert_exporter": "python",
   "pygments_lexer": "ipython3",
   "version": "3.9.7"
  }
 },
 "nbformat": 4,
 "nbformat_minor": 4
}
